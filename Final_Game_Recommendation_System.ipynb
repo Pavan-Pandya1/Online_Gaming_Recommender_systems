{
 "cells": [
  {
   "cell_type": "code",
   "execution_count": 1,
   "id": "f05c463b",
   "metadata": {},
   "outputs": [],
   "source": [
    "import pandas as pd\n",
    "import numpy as np\n",
    "import re\n",
    "import itertools\n",
    "import matplotlib.pyplot as plt"
   ]
  },
  {
   "cell_type": "code",
   "execution_count": 2,
   "id": "ff5e486d",
   "metadata": {},
   "outputs": [
    {
     "name": "stdout",
     "output_type": "stream",
     "text": [
      "(27075, 18)\n"
     ]
    },
    {
     "name": "stderr",
     "output_type": "stream",
     "text": [
      "/var/folders/62/5fx30fbj1k38hrcxln9d4bwr0000gn/T/ipykernel_24946/1680800825.py:4: FutureWarning: The error_bad_lines argument has been deprecated and will be removed in a future version. Use on_bad_lines in the future.\n",
      "\n",
      "\n",
      "  df = pd.read_csv(filename,  error_bad_lines=False, encoding='utf-8')\n"
     ]
    },
    {
     "data": {
      "text/html": [
       "<div>\n",
       "<style scoped>\n",
       "    .dataframe tbody tr th:only-of-type {\n",
       "        vertical-align: middle;\n",
       "    }\n",
       "\n",
       "    .dataframe tbody tr th {\n",
       "        vertical-align: top;\n",
       "    }\n",
       "\n",
       "    .dataframe thead th {\n",
       "        text-align: right;\n",
       "    }\n",
       "</style>\n",
       "<table border=\"1\" class=\"dataframe\">\n",
       "  <thead>\n",
       "    <tr style=\"text-align: right;\">\n",
       "      <th></th>\n",
       "      <th>appid</th>\n",
       "      <th>name</th>\n",
       "      <th>release_date</th>\n",
       "      <th>english</th>\n",
       "      <th>developer</th>\n",
       "      <th>publisher</th>\n",
       "      <th>platforms</th>\n",
       "      <th>required_age</th>\n",
       "      <th>categories</th>\n",
       "      <th>genres</th>\n",
       "      <th>steamspy_tags</th>\n",
       "      <th>achievements</th>\n",
       "      <th>positive_ratings</th>\n",
       "      <th>negative_ratings</th>\n",
       "      <th>average_playtime</th>\n",
       "      <th>median_playtime</th>\n",
       "      <th>owners</th>\n",
       "      <th>price</th>\n",
       "    </tr>\n",
       "  </thead>\n",
       "  <tbody>\n",
       "    <tr>\n",
       "      <th>0</th>\n",
       "      <td>10</td>\n",
       "      <td>Counter-Strike</td>\n",
       "      <td>2000-11-01</td>\n",
       "      <td>1</td>\n",
       "      <td>Valve</td>\n",
       "      <td>Valve</td>\n",
       "      <td>windows;mac;linux</td>\n",
       "      <td>0</td>\n",
       "      <td>Multi-player;Online Multi-Player;Local Multi-P...</td>\n",
       "      <td>Action</td>\n",
       "      <td>Action;FPS;Multiplayer</td>\n",
       "      <td>0</td>\n",
       "      <td>124534</td>\n",
       "      <td>3339</td>\n",
       "      <td>17612</td>\n",
       "      <td>317</td>\n",
       "      <td>10000000-20000000</td>\n",
       "      <td>7.19</td>\n",
       "    </tr>\n",
       "    <tr>\n",
       "      <th>1</th>\n",
       "      <td>20</td>\n",
       "      <td>Team Fortress Classic</td>\n",
       "      <td>1999-04-01</td>\n",
       "      <td>1</td>\n",
       "      <td>Valve</td>\n",
       "      <td>Valve</td>\n",
       "      <td>windows;mac;linux</td>\n",
       "      <td>0</td>\n",
       "      <td>Multi-player;Online Multi-Player;Local Multi-P...</td>\n",
       "      <td>Action</td>\n",
       "      <td>Action;FPS;Multiplayer</td>\n",
       "      <td>0</td>\n",
       "      <td>3318</td>\n",
       "      <td>633</td>\n",
       "      <td>277</td>\n",
       "      <td>62</td>\n",
       "      <td>5000000-10000000</td>\n",
       "      <td>3.99</td>\n",
       "    </tr>\n",
       "    <tr>\n",
       "      <th>2</th>\n",
       "      <td>30</td>\n",
       "      <td>Day of Defeat</td>\n",
       "      <td>2003-05-01</td>\n",
       "      <td>1</td>\n",
       "      <td>Valve</td>\n",
       "      <td>Valve</td>\n",
       "      <td>windows;mac;linux</td>\n",
       "      <td>0</td>\n",
       "      <td>Multi-player;Valve Anti-Cheat enabled</td>\n",
       "      <td>Action</td>\n",
       "      <td>FPS;World War II;Multiplayer</td>\n",
       "      <td>0</td>\n",
       "      <td>3416</td>\n",
       "      <td>398</td>\n",
       "      <td>187</td>\n",
       "      <td>34</td>\n",
       "      <td>5000000-10000000</td>\n",
       "      <td>3.99</td>\n",
       "    </tr>\n",
       "    <tr>\n",
       "      <th>3</th>\n",
       "      <td>40</td>\n",
       "      <td>Deathmatch Classic</td>\n",
       "      <td>2001-06-01</td>\n",
       "      <td>1</td>\n",
       "      <td>Valve</td>\n",
       "      <td>Valve</td>\n",
       "      <td>windows;mac;linux</td>\n",
       "      <td>0</td>\n",
       "      <td>Multi-player;Online Multi-Player;Local Multi-P...</td>\n",
       "      <td>Action</td>\n",
       "      <td>Action;FPS;Multiplayer</td>\n",
       "      <td>0</td>\n",
       "      <td>1273</td>\n",
       "      <td>267</td>\n",
       "      <td>258</td>\n",
       "      <td>184</td>\n",
       "      <td>5000000-10000000</td>\n",
       "      <td>3.99</td>\n",
       "    </tr>\n",
       "    <tr>\n",
       "      <th>4</th>\n",
       "      <td>50</td>\n",
       "      <td>Half-Life: Opposing Force</td>\n",
       "      <td>1999-11-01</td>\n",
       "      <td>1</td>\n",
       "      <td>Gearbox Software</td>\n",
       "      <td>Valve</td>\n",
       "      <td>windows;mac;linux</td>\n",
       "      <td>0</td>\n",
       "      <td>Single-player;Multi-player;Valve Anti-Cheat en...</td>\n",
       "      <td>Action</td>\n",
       "      <td>FPS;Action;Sci-fi</td>\n",
       "      <td>0</td>\n",
       "      <td>5250</td>\n",
       "      <td>288</td>\n",
       "      <td>624</td>\n",
       "      <td>415</td>\n",
       "      <td>5000000-10000000</td>\n",
       "      <td>3.99</td>\n",
       "    </tr>\n",
       "  </tbody>\n",
       "</table>\n",
       "</div>"
      ],
      "text/plain": [
       "   appid                       name release_date  english         developer  \\\n",
       "0     10             Counter-Strike   2000-11-01        1             Valve   \n",
       "1     20      Team Fortress Classic   1999-04-01        1             Valve   \n",
       "2     30              Day of Defeat   2003-05-01        1             Valve   \n",
       "3     40         Deathmatch Classic   2001-06-01        1             Valve   \n",
       "4     50  Half-Life: Opposing Force   1999-11-01        1  Gearbox Software   \n",
       "\n",
       "  publisher          platforms  required_age  \\\n",
       "0     Valve  windows;mac;linux             0   \n",
       "1     Valve  windows;mac;linux             0   \n",
       "2     Valve  windows;mac;linux             0   \n",
       "3     Valve  windows;mac;linux             0   \n",
       "4     Valve  windows;mac;linux             0   \n",
       "\n",
       "                                          categories  genres  \\\n",
       "0  Multi-player;Online Multi-Player;Local Multi-P...  Action   \n",
       "1  Multi-player;Online Multi-Player;Local Multi-P...  Action   \n",
       "2              Multi-player;Valve Anti-Cheat enabled  Action   \n",
       "3  Multi-player;Online Multi-Player;Local Multi-P...  Action   \n",
       "4  Single-player;Multi-player;Valve Anti-Cheat en...  Action   \n",
       "\n",
       "                  steamspy_tags  achievements  positive_ratings  \\\n",
       "0        Action;FPS;Multiplayer             0            124534   \n",
       "1        Action;FPS;Multiplayer             0              3318   \n",
       "2  FPS;World War II;Multiplayer             0              3416   \n",
       "3        Action;FPS;Multiplayer             0              1273   \n",
       "4             FPS;Action;Sci-fi             0              5250   \n",
       "\n",
       "   negative_ratings  average_playtime  median_playtime             owners  \\\n",
       "0              3339             17612              317  10000000-20000000   \n",
       "1               633               277               62   5000000-10000000   \n",
       "2               398               187               34   5000000-10000000   \n",
       "3               267               258              184   5000000-10000000   \n",
       "4               288               624              415   5000000-10000000   \n",
       "\n",
       "   price  \n",
       "0   7.19  \n",
       "1   3.99  \n",
       "2   3.99  \n",
       "3   3.99  \n",
       "4   3.99  "
      ]
     },
     "execution_count": 2,
     "metadata": {},
     "output_type": "execute_result"
    }
   ],
   "source": [
    "#filename = open(r\"/Users/pavanpandya/Desktop/HomeWork/Untitled Folder 1/steam.csv\", \"r\")\n",
    "filename = open(r\"/Users/pavanpandya/Desktop/Desktop1/IDS_CIS_563/Project/clean_dataset.csv\", \"r\")\n",
    "\n",
    "df = pd.read_csv(filename,  error_bad_lines=False, encoding='utf-8')\n",
    "#These are just quick checks to make sure the dataset looks correct\n",
    "print(df.shape)\n",
    "df.head()"
   ]
  },
  {
   "cell_type": "code",
   "execution_count": 3,
   "id": "55d6df52",
   "metadata": {},
   "outputs": [
    {
     "data": {
      "text/plain": [
       "appid               0\n",
       "name                0\n",
       "release_date        0\n",
       "english             0\n",
       "developer           0\n",
       "publisher           0\n",
       "platforms           0\n",
       "required_age        0\n",
       "categories          0\n",
       "genres              0\n",
       "steamspy_tags       0\n",
       "achievements        0\n",
       "positive_ratings    0\n",
       "negative_ratings    0\n",
       "average_playtime    0\n",
       "median_playtime     0\n",
       "owners              0\n",
       "price               0\n",
       "dtype: int64"
      ]
     },
     "execution_count": 3,
     "metadata": {},
     "output_type": "execute_result"
    }
   ],
   "source": [
    "#Which columns have null values?print(df.columns[df.isna().any()].tolist())\n",
    "#How many null values per column? - Count the missing values in each column\n",
    "df.isnull().sum()"
   ]
  },
  {
   "cell_type": "code",
   "execution_count": 4,
   "id": "6b7a98a4",
   "metadata": {},
   "outputs": [],
   "source": [
    "def extract_year(date):\n",
    "    year = date[:4]\n",
    "    if year.isnumeric():\n",
    "        return int(year)\n",
    "    else:\n",
    "        return np.nan\n",
    "df['year'] = df['release_date'].apply(extract_year)"
   ]
  },
  {
   "cell_type": "code",
   "execution_count": 5,
   "id": "6b23439e",
   "metadata": {},
   "outputs": [],
   "source": [
    "#Create score column\n",
    "def create_score(row):\n",
    "    pos_count = row['positive_ratings']\n",
    "    neg_count = row['negative_ratings']\n",
    "    total_count = pos_count + neg_count\n",
    "    average = pos_count / total_count\n",
    "    return round(average, 2)\n",
    "def total_ratings(row):\n",
    "    pos_count = row['positive_ratings']\n",
    "    neg_count = row['negative_ratings']\n",
    "    total_count = pos_count + neg_count\n",
    "    return total_count\n",
    "df['total_ratings'] = df.apply(total_ratings, axis=1)\n",
    "df['score'] = df.apply(create_score, axis=1)"
   ]
  },
  {
   "cell_type": "code",
   "execution_count": 6,
   "id": "36ae3e7b",
   "metadata": {},
   "outputs": [
    {
     "name": "stdout",
     "output_type": "stream",
     "text": [
      "908.6000000000022\n"
     ]
    }
   ],
   "source": [
    "# Calculate mean of vote average column\n",
    "C = df['score'].mean()\n",
    "# Calculate the minimum number of votes required to be in the chart\n",
    "m = df['total_ratings'].quantile(0.90)\n",
    "print(m)"
   ]
  },
  {
   "cell_type": "code",
   "execution_count": 7,
   "id": "77597f68",
   "metadata": {},
   "outputs": [
    {
     "data": {
      "text/html": [
       "<div>\n",
       "<style scoped>\n",
       "    .dataframe tbody tr th:only-of-type {\n",
       "        vertical-align: middle;\n",
       "    }\n",
       "\n",
       "    .dataframe tbody tr th {\n",
       "        vertical-align: top;\n",
       "    }\n",
       "\n",
       "    .dataframe thead th {\n",
       "        text-align: right;\n",
       "    }\n",
       "</style>\n",
       "<table border=\"1\" class=\"dataframe\">\n",
       "  <thead>\n",
       "    <tr style=\"text-align: right;\">\n",
       "      <th></th>\n",
       "      <th>name</th>\n",
       "      <th>total_ratings</th>\n",
       "      <th>score</th>\n",
       "      <th>weighted_score</th>\n",
       "    </tr>\n",
       "  </thead>\n",
       "  <tbody>\n",
       "    <tr>\n",
       "      <th>0</th>\n",
       "      <td>Counter-Strike</td>\n",
       "      <td>127873</td>\n",
       "      <td>0.97</td>\n",
       "      <td>0.97</td>\n",
       "    </tr>\n",
       "    <tr>\n",
       "      <th>1</th>\n",
       "      <td>Team Fortress Classic</td>\n",
       "      <td>3951</td>\n",
       "      <td>0.84</td>\n",
       "      <td>0.82</td>\n",
       "    </tr>\n",
       "    <tr>\n",
       "      <th>2</th>\n",
       "      <td>Day of Defeat</td>\n",
       "      <td>3814</td>\n",
       "      <td>0.90</td>\n",
       "      <td>0.86</td>\n",
       "    </tr>\n",
       "    <tr>\n",
       "      <th>3</th>\n",
       "      <td>Deathmatch Classic</td>\n",
       "      <td>1540</td>\n",
       "      <td>0.83</td>\n",
       "      <td>0.79</td>\n",
       "    </tr>\n",
       "    <tr>\n",
       "      <th>4</th>\n",
       "      <td>Half-Life: Opposing Force</td>\n",
       "      <td>5538</td>\n",
       "      <td>0.95</td>\n",
       "      <td>0.92</td>\n",
       "    </tr>\n",
       "    <tr>\n",
       "      <th>5</th>\n",
       "      <td>Ricochet</td>\n",
       "      <td>3442</td>\n",
       "      <td>0.80</td>\n",
       "      <td>0.78</td>\n",
       "    </tr>\n",
       "    <tr>\n",
       "      <th>6</th>\n",
       "      <td>Half-Life</td>\n",
       "      <td>28855</td>\n",
       "      <td>0.96</td>\n",
       "      <td>0.95</td>\n",
       "    </tr>\n",
       "    <tr>\n",
       "      <th>7</th>\n",
       "      <td>Counter-Strike: Condition Zero</td>\n",
       "      <td>13559</td>\n",
       "      <td>0.89</td>\n",
       "      <td>0.88</td>\n",
       "    </tr>\n",
       "    <tr>\n",
       "      <th>8</th>\n",
       "      <td>Half-Life: Blue Shift</td>\n",
       "      <td>4242</td>\n",
       "      <td>0.90</td>\n",
       "      <td>0.87</td>\n",
       "    </tr>\n",
       "    <tr>\n",
       "      <th>9</th>\n",
       "      <td>Half-Life 2</td>\n",
       "      <td>70321</td>\n",
       "      <td>0.97</td>\n",
       "      <td>0.97</td>\n",
       "    </tr>\n",
       "    <tr>\n",
       "      <th>10</th>\n",
       "      <td>Counter-Strike: Source</td>\n",
       "      <td>80137</td>\n",
       "      <td>0.96</td>\n",
       "      <td>0.96</td>\n",
       "    </tr>\n",
       "    <tr>\n",
       "      <th>11</th>\n",
       "      <td>Half-Life: Source</td>\n",
       "      <td>4820</td>\n",
       "      <td>0.78</td>\n",
       "      <td>0.77</td>\n",
       "    </tr>\n",
       "    <tr>\n",
       "      <th>12</th>\n",
       "      <td>Day of Defeat: Source</td>\n",
       "      <td>11699</td>\n",
       "      <td>0.90</td>\n",
       "      <td>0.89</td>\n",
       "    </tr>\n",
       "    <tr>\n",
       "      <th>13</th>\n",
       "      <td>Half-Life 2: Deathmatch</td>\n",
       "      <td>6807</td>\n",
       "      <td>0.88</td>\n",
       "      <td>0.86</td>\n",
       "    </tr>\n",
       "    <tr>\n",
       "      <th>14</th>\n",
       "      <td>Half-Life 2: Lost Coast</td>\n",
       "      <td>6803</td>\n",
       "      <td>0.85</td>\n",
       "      <td>0.83</td>\n",
       "    </tr>\n",
       "  </tbody>\n",
       "</table>\n",
       "</div>"
      ],
      "text/plain": [
       "                              name  total_ratings  score  weighted_score\n",
       "0                   Counter-Strike         127873   0.97            0.97\n",
       "1            Team Fortress Classic           3951   0.84            0.82\n",
       "2                    Day of Defeat           3814   0.90            0.86\n",
       "3               Deathmatch Classic           1540   0.83            0.79\n",
       "4        Half-Life: Opposing Force           5538   0.95            0.92\n",
       "5                         Ricochet           3442   0.80            0.78\n",
       "6                        Half-Life          28855   0.96            0.95\n",
       "7   Counter-Strike: Condition Zero          13559   0.89            0.88\n",
       "8            Half-Life: Blue Shift           4242   0.90            0.87\n",
       "9                      Half-Life 2          70321   0.97            0.97\n",
       "10          Counter-Strike: Source          80137   0.96            0.96\n",
       "11               Half-Life: Source           4820   0.78            0.77\n",
       "12           Day of Defeat: Source          11699   0.90            0.89\n",
       "13         Half-Life 2: Deathmatch           6807   0.88            0.86\n",
       "14         Half-Life 2: Lost Coast           6803   0.85            0.83"
      ]
     },
     "execution_count": 7,
     "metadata": {},
     "output_type": "execute_result"
    }
   ],
   "source": [
    "# calculate the weighted rating for each qualified game\n",
    "# Function that computes the weighted rating of each game\n",
    "def weighted_rating(x, m=m, C=C):\n",
    "    v = x['total_ratings']\n",
    "    R = x['score']\n",
    "    # Calculation based on the IMDB formula\n",
    "    return round((v/(v+m) * R) + (m/(m+v) * C), 2)\n",
    "# Define a new feature 'score' and calculate its value with `weighted_rating()`\n",
    "df['weighted_score'] = df.apply(weighted_rating, axis=1)\n",
    "#Print the top 15 games\n",
    "df[['name', 'total_ratings', 'score', 'weighted_score']].head(15)"
   ]
  },
  {
   "cell_type": "code",
   "execution_count": 8,
   "id": "a0e06c2b",
   "metadata": {},
   "outputs": [
    {
     "name": "stdout",
     "output_type": "stream",
     "text": [
      "10322\n"
     ]
    }
   ],
   "source": [
    "#We're adding this is for tags with multiple words, we need to connect by '-' before we split them by ' '\n",
    "df['steamspy_tags'] = df['steamspy_tags'].str.replace(' ','-')\n",
    "#TF-IDF Vectorizer further down will identify the words by the spaces between the words\n",
    "df['genres'] = df['steamspy_tags'].str.replace(';',' ')\n",
    "# count the number of occurences for each genre in the data set\n",
    "counts = dict()\n",
    "for i in df.index:\n",
    "#for each element in list (each row, split by ' ', in genres column)\n",
    "#-- we're splitting by space so tfidf can interpret the rows\n",
    "    for j in df.loc[i,'genres'].split(' '):\n",
    "    #if element is not in counts(dictionary of genres)\n",
    "        if j not in counts:\n",
    "            #give genre dictonary entry the value of 1\n",
    "            counts[j] = 1\n",
    "        else:\n",
    "            #increase genre dictionary entry by 1\n",
    "            counts[j] = counts[j] + 1\n",
    "#Test Genre Counts\n",
    "counts.keys()\n",
    "print(counts['Action'])"
   ]
  },
  {
   "cell_type": "code",
   "execution_count": 9,
   "id": "86a8f3ac",
   "metadata": {},
   "outputs": [
    {
     "name": "stdout",
     "output_type": "stream",
     "text": [
      "Requirement already satisfied: fuzzywuzzy in /Users/pavanpandya/opt/anaconda3/lib/python3.9/site-packages (0.18.0)\r\n"
     ]
    },
    {
     "name": "stderr",
     "output_type": "stream",
     "text": [
      "/Users/pavanpandya/opt/anaconda3/lib/python3.9/site-packages/fuzzywuzzy/fuzz.py:11: UserWarning: Using slow pure-python SequenceMatcher. Install python-Levenshtein to remove this warning\n",
      "  warnings.warn('Using slow pure-python SequenceMatcher. Install python-Levenshtein to remove this warning')\n"
     ]
    }
   ],
   "source": [
    "from sklearn.feature_extraction.text import TfidfVectorizer\n",
    "from sklearn.metrics.pairwise import linear_kernel\n",
    "!pip install fuzzywuzzy\n",
    "from fuzzywuzzy import fuzz"
   ]
  },
  {
   "cell_type": "code",
   "execution_count": 10,
   "id": "955b6f3c",
   "metadata": {},
   "outputs": [],
   "source": [
    "# create an object for TfidfVectorizer\n",
    "tfidf_vector = TfidfVectorizer(stop_words='english')\n",
    "# apply the object to the genres column\n",
    "# convert the list of documents (rows of genre tags) into a matrix\n",
    "tfidf_matrix = tfidf_vector.fit_transform(df['genres'])"
   ]
  },
  {
   "cell_type": "code",
   "execution_count": 11,
   "id": "56c325b0",
   "metadata": {},
   "outputs": [
    {
     "data": {
      "text/plain": [
       "(27075, 370)"
      ]
     },
     "execution_count": 11,
     "metadata": {},
     "output_type": "execute_result"
    }
   ],
   "source": [
    "tfidf_matrix.shape"
   ]
  },
  {
   "cell_type": "code",
   "execution_count": 12,
   "id": "ffa1c576",
   "metadata": {},
   "outputs": [
    {
     "ename": "AttributeError",
     "evalue": "'TfidfVectorizer' object has no attribute 'get_feature_names'",
     "output_type": "error",
     "traceback": [
      "\u001b[0;31m---------------------------------------------------------------------------\u001b[0m",
      "\u001b[0;31mAttributeError\u001b[0m                            Traceback (most recent call last)",
      "Input \u001b[0;32mIn [12]\u001b[0m, in \u001b[0;36m<cell line: 1>\u001b[0;34m()\u001b[0m\n\u001b[0;32m----> 1\u001b[0m \u001b[38;5;28mprint\u001b[39m(\u001b[38;5;28mlist\u001b[39m(\u001b[38;5;28menumerate\u001b[39m(\u001b[43mtfidf_vector\u001b[49m\u001b[38;5;241;43m.\u001b[39;49m\u001b[43mget_feature_names\u001b[49m())))\n",
      "\u001b[0;31mAttributeError\u001b[0m: 'TfidfVectorizer' object has no attribute 'get_feature_names'"
     ]
    }
   ],
   "source": [
    "print(list(enumerate(tfidf_vector.get_feature_names())))"
   ]
  },
  {
   "cell_type": "code",
   "execution_count": 13,
   "id": "648cf849",
   "metadata": {},
   "outputs": [
    {
     "name": "stdout",
     "output_type": "stream",
     "text": [
      "[[1.         1.         0.53785954 ... 0.16328518 0.         0.        ]\n",
      " [1.         1.         0.53785954 ... 0.16328518 0.         0.        ]\n",
      " [0.53785954 0.53785954 1.         ... 0.         0.         0.        ]\n",
      " ...\n",
      " [0.16328518 0.16328518 0.         ... 1.         0.61573349 0.61573349]\n",
      " [0.         0.         0.         ... 0.61573349 1.         1.        ]\n",
      " [0.         0.         0.         ... 0.61573349 1.         1.        ]]\n"
     ]
    }
   ],
   "source": [
    "# create the cosine similarity matrix\n",
    "sim_matrix = linear_kernel(tfidf_matrix,tfidf_matrix)\n",
    "print(sim_matrix)"
   ]
  },
  {
   "cell_type": "code",
   "execution_count": 14,
   "id": "f9a3a05f",
   "metadata": {},
   "outputs": [],
   "source": [
    "def matching_score(a,b):\n",
    "   return fuzz.ratio(a,b)\n",
    "   # exactly the same, the score becomes 100"
   ]
  },
  {
   "cell_type": "code",
   "execution_count": 15,
   "id": "f5329107",
   "metadata": {},
   "outputs": [],
   "source": [
    "def get_title_year_from_index(index):\n",
    "   return df[df.index == index]['year'].values[0]\n",
    "def get_title_from_index(index):\n",
    "   return df[df.index == index]['name'].values[0]\n",
    "def get_index_from_title(title):\n",
    "   return df[df.name == title].index.values[0]\n",
    "def get_score_from_index(index):\n",
    "   return df[df.index == index]['score'].values[0]\n",
    "def get_weighted_score_from_index(index):\n",
    "   return df[df.index == index]['weighted_score'].values[0]\n",
    "def get_total_ratings_from_index(index):\n",
    "   return df[df.index == index]['total_ratings'].values[0]\n",
    "def get_platform_from_index(index):\n",
    "   return df[df.index == index]['platforms'].values[0]"
   ]
  },
  {
   "cell_type": "code",
   "execution_count": 16,
   "id": "dc66f8e7",
   "metadata": {},
   "outputs": [],
   "source": [
    "def find_closest_title(title):\n",
    "    leven_scores = list(enumerate(df['name'].apply(matching_score, b=title))) #[(0, 30), (1,95), (2, 19)~~] A tuple of distances per index\n",
    "    sorted_leven_scores = sorted(leven_scores, key=lambda x: x[1], reverse=True) #Sorts list of tuples by distance [(1, 95), (3, 49), (0, 30)~~]\n",
    "    closest_title = get_title_from_index(sorted_leven_scores[0][0])\n",
    "    distance_score = sorted_leven_scores[0][1]\n",
    "    return closest_title, distance_score\n",
    "# Bejeweled Twist, 100"
   ]
  },
  {
   "cell_type": "code",
   "execution_count": 17,
   "id": "c710d857",
   "metadata": {},
   "outputs": [
    {
     "data": {
      "text/plain": [
       "['Call of Duty®',\n",
       " 'Call of Duty® 2',\n",
       " 'Call of Duty®: WWII',\n",
       " 'Call of Duty®: Ghosts',\n",
       " 'Call of War',\n",
       " 'Call of Juarez™',\n",
       " 'Call of Duty®: Black Ops',\n",
       " 'Call of Bitcoin',\n",
       " 'Call of Cthulhu®',\n",
       " 'Ball of Light']"
      ]
     },
     "execution_count": 17,
     "metadata": {},
     "output_type": "execute_result"
    }
   ],
   "source": [
    "#find_closest_title returns only one title but I want a dropdown of the 10 closest game titles\n",
    "def closest_names(title):\n",
    "    leven_scores = list(enumerate(df['name'].apply(matching_score, b=title)))\n",
    "    sorted_leven_scores = sorted(leven_scores, key=lambda x: x[1], reverse=True)\n",
    "    top_closest_names = [get_title_from_index(i[0]) for i in sorted_leven_scores[:10]]  #[['Team Fortress Classic', 'Deathmatch Classic', 'Counter-Strike',~~]\n",
    "    return top_closest_names\n",
    "closest_names('Call of Duty')"
   ]
  },
  {
   "cell_type": "code",
   "execution_count": 18,
   "id": "d834364b",
   "metadata": {},
   "outputs": [],
   "source": [
    "# TA/Sir Please Install this library if it is not installed in your system , thanks\n",
    "#!pip install gradio\n",
    "import gradio as gr"
   ]
  },
  {
   "cell_type": "code",
   "execution_count": 19,
   "id": "0229d218",
   "metadata": {},
   "outputs": [],
   "source": [
    "def gradio_contents_based_recommender_v2(game, how_many, dropdown_option, sort_option, min_year, platform, min_score):\n",
    "    #Return closest game title match\n",
    "    closest_title, distance_score = find_closest_title(dropdown_option)\n",
    "    #Create a Dataframe with these column headers\n",
    "    recomm_df = pd.DataFrame(columns=['Game Title', 'Year', 'Score', 'Weighted Score', 'Total Ratings'])\n",
    "    #Make the closest title whichever dropdown option the user has chosen\n",
    "    closest_title = dropdown_option\n",
    "    #find the corresponding index of the game title\n",
    "    games_index = get_index_from_title(closest_title)\n",
    "    #return a list of the most similar game indexes as a list\n",
    "    games_list = list(enumerate(sim_matrix[int(games_index)]))\n",
    "    #Sort list of similar games from top to bottom\n",
    "    similar_games = list(filter(lambda x:x[0] != int(games_index), sorted(games_list,key=lambda x:x[1], reverse=True)))\n",
    "    #Print the game title the similarity matrix is based on\n",
    "    print('Here\\'s the list of games similar to '+'\\033[1m'+str(closest_title)+'\\033[0m'+'.\\n')\n",
    "    #Only return the games that are on selected platform\n",
    "    n_games = []\n",
    "    for i,s in similar_games:\n",
    "        if platform in get_platform_from_index(i):\n",
    "            n_games.append((i,s))\n",
    "    #Only return the games that are above the minimum score\n",
    "    high_scores = []\n",
    "    for i,s in n_games:\n",
    "        if get_score_from_index(i) > min_score:\n",
    "            high_scores.append((i,s))\n",
    "    #Return the game tuple (game index, game distance score) and store in a dataframe\n",
    "    for i,s in n_games[:how_many]:\n",
    "        #Dataframe will contain attributes based on game index\n",
    "        row = {'Game Title': get_title_from_index(i), 'Year': get_title_year_from_index(i), 'Score': get_score_from_index(i), 'Weighted Score': get_weighted_score_from_index(i), 'Total Ratings': get_total_ratings_from_index(i),}\n",
    "        #Append each row to this dataframe\n",
    "        recomm_df = recomm_df.append(row, ignore_index = True)\n",
    "    #Sort dataframe by Sort_Option provided by userrecomm_df = recomm_df.sort_values(sort_option, ascending=False)\n",
    "    #Only include games released same or after minimum year selectedrecomm_df = recomm_df[recomm_df['Year'] >= min_year]\n",
    "    return recomm_df"
   ]
  },
  {
   "cell_type": "code",
   "execution_count": null,
   "id": "02f57a44",
   "metadata": {},
   "outputs": [
    {
     "name": "stdout",
     "output_type": "stream",
     "text": [
      "What games do you want most similar to?:\n",
      "Call of Duty\n"
     ]
    },
    {
     "name": "stderr",
     "output_type": "stream",
     "text": [
      "/Users/pavanpandya/opt/anaconda3/lib/python3.9/site-packages/gradio/inputs.py:88: UserWarning: Usage of gradio.inputs is deprecated, and will not be supported in the future, please import your component from gradio.components\n",
      "  warnings.warn(\n",
      "/Users/pavanpandya/opt/anaconda3/lib/python3.9/site-packages/gradio/deprecation.py:40: UserWarning: `optional` parameter is deprecated, and it has no effect\n",
      "  warnings.warn(value)\n",
      "/Users/pavanpandya/opt/anaconda3/lib/python3.9/site-packages/gradio/inputs.py:216: UserWarning: Usage of gradio.inputs is deprecated, and will not be supported in the future, please import your component from gradio.components\n",
      "  warnings.warn(\n",
      "/Users/pavanpandya/opt/anaconda3/lib/python3.9/site-packages/gradio/inputs.py:182: UserWarning: Usage of gradio.inputs is deprecated, and will not be supported in the future, please import your component from gradio.components\n",
      "  warnings.warn(\n"
     ]
    },
    {
     "name": "stdout",
     "output_type": "stream",
     "text": [
      "IMPORTANT: You are using gradio version 3.12.0, however version 3.14.0 is available, please upgrade.\n",
      "--------\n",
      "Running on local URL:  http://127.0.0.1:7860\n",
      "\n",
      "To create a public link, set `share=True` in `launch()`.\n"
     ]
    },
    {
     "data": {
      "text/html": [
       "<div><iframe src=\"http://127.0.0.1:7860/\" width=\"100%\" height=\"500\" allow=\"autoplay; camera; microphone; clipboard-read; clipboard-write;\" frameborder=\"0\" allowfullscreen></iframe></div>"
      ],
      "text/plain": [
       "<IPython.core.display.HTML object>"
      ]
     },
     "metadata": {},
     "output_type": "display_data"
    },
    {
     "name": "stdout",
     "output_type": "stream",
     "text": [
      "Here's the list of games similar to \u001b[1mCall of Duty®\u001b[0m.\n",
      "\n"
     ]
    },
    {
     "name": "stderr",
     "output_type": "stream",
     "text": [
      "/var/folders/62/5fx30fbj1k38hrcxln9d4bwr0000gn/T/ipykernel_24946/2769069571.py:31: FutureWarning: The frame.append method is deprecated and will be removed from pandas in a future version. Use pandas.concat instead.\n",
      "  recomm_df = recomm_df.append(row, ignore_index = True)\n",
      "/var/folders/62/5fx30fbj1k38hrcxln9d4bwr0000gn/T/ipykernel_24946/2769069571.py:31: FutureWarning: The frame.append method is deprecated and will be removed from pandas in a future version. Use pandas.concat instead.\n",
      "  recomm_df = recomm_df.append(row, ignore_index = True)\n",
      "/var/folders/62/5fx30fbj1k38hrcxln9d4bwr0000gn/T/ipykernel_24946/2769069571.py:31: FutureWarning: The frame.append method is deprecated and will be removed from pandas in a future version. Use pandas.concat instead.\n",
      "  recomm_df = recomm_df.append(row, ignore_index = True)\n"
     ]
    }
   ],
   "source": [
    "#Create list of unique calendar years based on main df column\n",
    "years_sorted = sorted(list(df['year'].unique()))\n",
    "#Ask user for input\n",
    "print(\"What games do you want most similar to?:\")\n",
    "names = closest_names(input())\n",
    "#Interface will include these buttons based on parameters in the function with a dataframe output\n",
    "dropdown = gr.Interface(gradio_contents_based_recommender_v2, [\"text\", gr.inputs.Slider(1, 20, step=int(1)), gr.inputs.Dropdown(names), gr.inputs.Radio(['Year','Score','Weighted Score','Total Ratings']), gr.inputs.Slider(int(years_sorted[0]), int(years_sorted[-1]), step=int(1)), gr.inputs.Radio(['windows','xbox','playstation','linux','mac']), gr.inputs.Slider(0, 10, step=0.1)], \"dataframe\")\n",
    "dropdown.launch(debug=True)"
   ]
  },
  {
   "cell_type": "code",
   "execution_count": null,
   "id": "26db8a05",
   "metadata": {},
   "outputs": [],
   "source": []
  },
  {
   "cell_type": "code",
   "execution_count": null,
   "id": "c1c04200",
   "metadata": {},
   "outputs": [],
   "source": []
  },
  {
   "cell_type": "code",
   "execution_count": null,
   "id": "622d72b2",
   "metadata": {},
   "outputs": [],
   "source": []
  }
 ],
 "metadata": {
  "kernelspec": {
   "display_name": "Python 3 (ipykernel)",
   "language": "python",
   "name": "python3"
  },
  "language_info": {
   "codemirror_mode": {
    "name": "ipython",
    "version": 3
   },
   "file_extension": ".py",
   "mimetype": "text/x-python",
   "name": "python",
   "nbconvert_exporter": "python",
   "pygments_lexer": "ipython3",
   "version": "3.9.12"
  }
 },
 "nbformat": 4,
 "nbformat_minor": 5
}
